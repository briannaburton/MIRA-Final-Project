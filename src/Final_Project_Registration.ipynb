{
 "cells": [
  {
   "cell_type": "code",
   "execution_count": 8,
   "metadata": {},
   "outputs": [],
   "source": [
    "import numpy as np\n",
    "import itk\n",
    "import os\n",
    "import nibabel as nib\n",
    "from os import listdir, mkdir\n",
    "from os.path import isdir, join"
   ]
  },
  {
   "cell_type": "code",
   "execution_count": 11,
   "metadata": {},
   "outputs": [],
   "source": [
    "# Function to calculate TRE\n",
    "def TRE(landmarks1, landmarks2, spacing):\n",
    "    \"\"\"\n",
    "    mean (and standard deviation) 3D Euclidean magnitude distance \n",
    "    between calculated and reference landmark positions for the \n",
    "    set of validation landmarks. All values are reported in units of millimeters.\n",
    "    \n",
    "    Parameters:    \n",
    "        landmarks1 (ndarry): first set of landmarks.\n",
    "        landmarks2 (ndarry): second set of landmarks.\n",
    "        spaing (tuple(float)): pixel spacing for x, y, z.\n",
    "    \n",
    "    Returns:\n",
    "        (floar, float) mean and SD 3D Euclidean magnitude distance.\n",
    "    \"\"\"\n",
    "    landmarks1 = spacing*landmarks1\n",
    "    landmarks2 = spacing*landmarks2\n",
    "    diff = landmarks1 - landmarks2\n",
    "    squared = diff * diff\n",
    "    dist = np.sqrt(np.sum(squared,axis=1))\n",
    "    mean_TRE = np.mean(dist)\n",
    "    sd_TRE = np.std(dist)\n",
    "\n",
    "    return dist, mean_TRE, sd_TRE\n",
    "\n",
    "#Import transformix text file and convert to np array\n",
    "def transformix2np(path_transformix, no_points=300):\n",
    "    import re\n",
    "    landmarks = open(path_transformix, \"r\")\n",
    "    reg_expr = r'OutputIndexFixed = \\[([\\d.\\s\\-]+)\\]'\n",
    "    landmarks_array = np.zeros((no_points, 3))\n",
    "\n",
    "    for index, line in enumerate(landmarks):\n",
    "        match_obj = re.search(reg_expr, line, re.M)\n",
    "        coords = match_obj.group(1).split()\n",
    "        coords = [round(float(c)) for c in coords]\n",
    "        landmarks_array[index,:] = coords\n",
    "    return landmarks_array\n",
    "\n",
    "# Read nii from path and normalize array from 0 to 1\n",
    "def read_im(image_path):\n",
    "    nii_img = nib.load(image_path)\n",
    "    nii_data = nii_img.get_data()\n",
    "    return nii_data, nii_img"
   ]
  },
  {
   "cell_type": "code",
   "execution_count": null,
   "metadata": {},
   "outputs": [],
   "source": [
    "# Set chosen image\n",
    "chosen_im = 'copd1'\n",
    "chosen_param = 'par0000'\n",
    "\n",
    "# Set path to data folder containing copd1, copd2, etc. folders\n",
    "data_dir = \"../data\"\n",
    "\n",
    "#Set paths to landmarks and images\n",
    "path_landmarkse = os.path.join(data_dir, f\"{chosen_im}/{chosen_im}_300_eBH_xyz_r1.txt\")\n",
    "path_landmarksi = os.path.join(data_dir, f\"{chosen_im}/{chosen_im}_300_iBH_xyz_r1.txt\")\n",
    "path_imge = os.path.join(data_dir, f'./{chosen_im}/{chosen_im}_eBHCT.nii.gz')\n",
    "path_imgi = os.path.join(data_dir, f'./{chosen_im}/{chosen_im}_iBHCT.nii.gz')\n",
    "\n",
    "# Set paths to output of transformix\n",
    "path_transformix = f\"../registration-results/{chosen_param}/{chosen_im}/outputpoints.txt\""
   ]
  },
  {
   "cell_type": "code",
   "execution_count": null,
   "metadata": {},
   "outputs": [],
   "source": [
    "# Load landmark points and image\n",
    "landmarkse = np.loadtxt(path_landmarkse)\n",
    "landmarksi = np.loadtxt(path_landmarksi)\n",
    "\n",
    "nii_data, nii_img = read_im(path_imge)"
   ]
  },
  {
   "cell_type": "code",
   "execution_count": null,
   "metadata": {},
   "outputs": [],
   "source": [
    "dist, mean_TRE, SD_TRE = TRE(landmarkse, landmarksi, nii_img.header.get_zooms())\n",
    "print(mean_TRE, SD_TRE)"
   ]
  },
  {
   "cell_type": "code",
   "execution_count": null,
   "metadata": {},
   "outputs": [],
   "source": [
    "transformix_landmarks = transformix2np(path_transformix, no_points=300)\n",
    "dist, mean_TRE, SD_TRE = TRE(landmarksi, transformix_landmarks, nii_img.header.get_zooms())\n",
    "print(mean_TRE, SD_TRE)"
   ]
  },
  {
   "cell_type": "markdown",
   "metadata": {},
   "source": [
    "## Section to Compute TRE for parameter file"
   ]
  },
  {
   "cell_type": "code",
   "execution_count": 24,
   "metadata": {},
   "outputs": [],
   "source": [
    "# Compute TRE for four copd images for a chosen_parameter file\n",
    "# Result is saved in folder \"./registration-results/TRE-results\"\n",
    "chosen_param = 'par0035'"
   ]
  },
  {
   "cell_type": "code",
   "execution_count": 23,
   "metadata": {},
   "outputs": [],
   "source": [
    "reg_dir = f\"../registration-results/{chosen_param}\"\n",
    "data_dir = \"../data\"\n",
    "onlydirs = [f for f in listdir(reg_dir) if isdir(join(reg_dir, f))]\n",
    "# Array to save TRE results\n",
    "TRE_results = np.zeros((len(onlydirs),3))\n",
    "TRE_file_path = os.path.join(\"../registration-results/TRE-results\",f\"{chosen_param}_TRE_results.csv\")\n",
    "\n",
    "for idx, chosen_im in enumerate(onlydirs):\n",
    "    # Load inhale image and get pixel spacing\n",
    "    path_imge = os.path.join(data_dir, f'./{chosen_im}/{chosen_im}_iBHCT.nii.gz')\n",
    "    inhale_img = nib.load(path_imge)\n",
    "    # Load inhale image landmarks\n",
    "    path_landmarksi = os.path.join(data_dir, f\"{chosen_im}/{chosen_im}_300_iBH_xyz_r1.txt\")\n",
    "    landmarksi = np.loadtxt(path_landmarksi)\n",
    "    # Load transformed parameters\n",
    "    path_transform_param = f\"../registration-results/{chosen_param}/{chosen_im}/outputpoints.txt\"\n",
    "    transformix_landmarks = transformix2np(path_transform_param, no_points=300)\n",
    "    # Compute TRE\n",
    "    _, mean_TRE, SD_TRE = TRE(landmarksi, transformix_landmarks, inhale_img.header.get_zooms())\n",
    "    TRE_results[idx, :] = chosen_im[4], mean_TRE, SD_TRE\n",
    "\n",
    "# Write results into folder \"../registration-results/TRE-results\"\n",
    "with open(TRE_file_path, 'w+') as out_f:\n",
    "    for index, row in enumerate(TRE_results): \n",
    "        out_f.write(','.join(str(j) for j in row) + '\\n')"
   ]
  },
  {
   "cell_type": "markdown",
   "metadata": {},
   "source": [
    "## Section to Write Elastix Commands to file"
   ]
  },
  {
   "cell_type": "code",
   "execution_count": 18,
   "metadata": {},
   "outputs": [],
   "source": [
    "# Write commands for elastix test set registration\n",
    "# Add parameter folder name and paramter file names (must be saved in ./parameter-files folder)\n",
    "param_file = 'par0049' # folder name where results will be saved\n",
    "param_1 = 'Par0035.SPREAD.MI.af.0.txt'\n",
    "param_2 = 'Par0035.SPREAD.MI.bs.1.ASGD.txt'\n",
    "data_dir = \"../data\"\n",
    "test_ims = [f for f in listdir(data_dir) if isdir(join(data_dir, f))]\n",
    "result_folder = f\"../registration-results/{param_file}/\"\n",
    "mkdir(result_folder)"
   ]
  },
  {
   "cell_type": "code",
   "execution_count": 2,
   "metadata": {},
   "outputs": [],
   "source": [
    "# Section writes to file in src folder\n",
    "with open(f\"elastix_transformix_{param_file}\", 'w+') as out_f:\n",
    "    \n",
    "    for chosen_im in test_ims:\n",
    "        fixed_im_path = os.path.join(data_dir, f'./{chosen_im}/{chosen_im}_iBHCT.nii.gz') \n",
    "        moving_im_path = os.path.join(data_dir, f'./{chosen_im}/{chosen_im}_eBHCT.nii.gz')\n",
    "        result_path = f\"../registration-results/{param_file}/{chosen_im}/\"\n",
    "        param_1_path = f\"../parameter_files/{param_1}\"\n",
    "        param_2_path = f\"../parameter_files/{param_2}\"    \n",
    "        mkdir(result_path)\n",
    "        cmd = f\"elastix -f {fixed_im_path} -m {moving_im_path} -out {result_path} -p {param_1_path} -p {param_2_path}\\n\"\n",
    "        out_f.write(cmd)\n",
    "        \n",
    "        def_path = f\"../data/{chosen_im}/{chosen_im}_300_iBH_xyz_r1_elastix.txt\"\n",
    "        result_path = f\"../registration-results/{param_file}/{chosen_im}/\"\n",
    "        parameters_path = f\"../registration-results/{param_file}/{chosen_im}/TransformParameters.1.txt\"\n",
    "        cmd = f\"transformix -def {def_path} -out {result_path} -tp {parameters_path}\\n\"\n",
    "        out_f.write(cmd)"
   ]
  },
  {
   "cell_type": "code",
   "execution_count": 19,
   "metadata": {},
   "outputs": [],
   "source": [
    "# Write commands for transformix transformation\n",
    "with open(f\"test_transformation_{param_file}\", 'w+') as out_f:\n",
    "    \n",
    "    for chosen_im in test_ims:\n",
    "        def_path = f\"../data/{chosen_im}/{chosen_im}_300_iBH_xyz_r1_elastix.txt\"\n",
    "        result_path = f\"../registration-results/{param_file}/{chosen_im}/\"\n",
    "        parameters_path = f\"../registration-results/{param_file}/{chosen_im}/TransformParameters.0.txt\"\n",
    "        cmd = f\"transformix -def {def_path} -out {result_path} -tp {parameters_path}\\n\"\n",
    "        out_f.write(cmd)"
   ]
  },
  {
   "cell_type": "code",
   "execution_count": null,
   "metadata": {},
   "outputs": [],
   "source": []
  }
 ],
 "metadata": {
  "kernelspec": {
   "display_name": "Python 3",
   "language": "python",
   "name": "python3"
  },
  "language_info": {
   "codemirror_mode": {
    "name": "ipython",
    "version": 3
   },
   "file_extension": ".py",
   "mimetype": "text/x-python",
   "name": "python",
   "nbconvert_exporter": "python",
   "pygments_lexer": "ipython3",
   "version": "3.6.5"
  }
 },
 "nbformat": 4,
 "nbformat_minor": 1
}
