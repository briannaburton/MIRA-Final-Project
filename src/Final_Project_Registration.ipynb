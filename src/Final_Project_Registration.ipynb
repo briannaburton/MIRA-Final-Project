{
 "cells": [
  {
   "cell_type": "code",
   "execution_count": 1,
   "metadata": {},
   "outputs": [],
   "source": [
    "import numpy as np\n",
    "import itk\n",
    "import os\n",
    "import nibabel as nib\n",
    "from os import listdir, mkdir\n",
    "from os.path import isdir, join"
   ]
  },
  {
   "cell_type": "code",
   "execution_count": 2,
   "metadata": {},
   "outputs": [],
   "source": [
    "# Function to calculate TRE\n",
    "def TRE(landmarks1, landmarks2, spacing):\n",
    "    \"\"\"\n",
    "    mean (and standard deviation) 3D Euclidean magnitude distance \n",
    "    between calculated and reference landmark positions for the \n",
    "    set of validation landmarks. All values are reported in units of millimeters.\n",
    "    \n",
    "    Parameters:    \n",
    "        landmarks1 (ndarry): first set of landmarks.\n",
    "        landmarks2 (ndarry): second set of landmarks.\n",
    "        spaing (tuple(float)): pixel spacing for x, y, z.\n",
    "    \n",
    "    Returns:\n",
    "        (float, float) mean and SD 3D Euclidean magnitude distance.\n",
    "    \"\"\"\n",
    "    landmarks1 = spacing*landmarks1\n",
    "    landmarks2 = spacing*landmarks2\n",
    "    diff = landmarks1 - landmarks2\n",
    "    squared = diff * diff\n",
    "    dist = np.sqrt(np.sum(squared,axis=1))\n",
    "    mean_TRE = np.mean(dist)\n",
    "    sd_TRE = np.std(dist)\n",
    "\n",
    "    return dist, mean_TRE, sd_TRE\n",
    "\n",
    "def transformix2np(path_transformix, no_points=300):\n",
    "    \"\"\"\n",
    "    Reads and transforms the transformix output to ndarray to use in TRE function\n",
    "    \n",
    "    Parameters:    \n",
    "        path_transformix (string): path to transformix output points txt file\n",
    "        no_points(int): number of points in transformix file\n",
    "    \n",
    "    Returns:\n",
    "        landmarks_array (ndarray): transformed points \n",
    "    \"\"\"\n",
    "    import re\n",
    "    landmarks = open(path_transformix, \"r\")\n",
    "    reg_expr = r'OutputIndexFixed = \\[([\\d.\\s\\-]+)\\]'\n",
    "    landmarks_array = np.zeros((no_points, 3))\n",
    "\n",
    "    for index, line in enumerate(landmarks):\n",
    "        match_obj = re.search(reg_expr, line, re.M)\n",
    "        coords = match_obj.group(1).split()\n",
    "        coords = [round(float(c)) for c in coords]\n",
    "        landmarks_array[index,:] = coords\n",
    "    return landmarks_array\n",
    "\n",
    "# Read nii from path and normalize array from 0 to 1\n",
    "def read_im(image_path):\n",
    "    \"\"\"\n",
    "    Read nii from path and normalize array from 0 to 1\n",
    "    \n",
    "    Parameters:\n",
    "        image_path (string): location of image to read\n",
    "    \n",
    "    Returns:\n",
    "        nii_data (nparray): image data of nii file\n",
    "        nii_img (NiBabel image): nibabel image object of nii file \n",
    "                with info about data, affine matrix, and metadata\n",
    "    \"\"\"\n",
    "    nii_img = nib.load(image_path)\n",
    "    nii_data = nii_img.get_data()\n",
    "    return nii_data, nii_img\n",
    "\n",
    "def compute_all_TRE(chosen_param_directory):\n",
    "    \"\"\"\n",
    "    Computes all TRE mean and SD for all four cases and saves to the directory\n",
    "    \"../registration-results/TRE-results\"\n",
    "    \n",
    "    Parameters:    \n",
    "        chosen_param_directory (string): directory located inside \"../registration-results/\" in which \n",
    "            results to be evaluated are located\n",
    "    \n",
    "    Returns:\n",
    "        Void\n",
    "    \"\"\"\n",
    "    reg_dir = f\"../registration-results/{chosen_param_directory}\"\n",
    "    data_dir = \"../data\"\n",
    "    onlydirs = [f for f in listdir(reg_dir) if isdir(join(reg_dir, f))]\n",
    "    # Array to save TRE results\n",
    "    TRE_results = np.zeros((len(onlydirs),3))\n",
    "    TRE_file_path = os.path.join(\"../registration-results/TRE-results\",f\"{chosen_param_directory}_TRE_results.csv\")\n",
    "\n",
    "    for idx, chosen_im in enumerate(onlydirs):\n",
    "        # Load inhale image and get pixel spacing\n",
    "        path_imge = os.path.join(data_dir, f'./{chosen_im}/{chosen_im}_iBHCT.nii.gz')\n",
    "        inhale_img = nib.load(path_imge)\n",
    "        # Load inhale image landmarks\n",
    "        path_landmarksi = os.path.join(data_dir, f\"{chosen_im}/{chosen_im}_300_iBH_xyz_r1.txt\")\n",
    "        landmarksi = np.loadtxt(path_landmarksi)\n",
    "        # Load transformed parameters\n",
    "        path_transform_param = f\"../registration-results/{chosen_param_directory}/{chosen_im}/outputpoints.txt\"\n",
    "        transformix_landmarks = transformix2np(path_transform_param, no_points=300)\n",
    "        # Compute TRE\n",
    "        _, mean_TRE, SD_TRE = TRE(landmarksi, transformix_landmarks, inhale_img.header.get_zooms())\n",
    "        TRE_results[idx, :] = chosen_im[4], mean_TRE, SD_TRE\n",
    "\n",
    "    # Write results into folder \"../registration-results/TRE-results\"\n",
    "    with open(TRE_file_path, 'w+') as out_f:\n",
    "        for index, row in enumerate(TRE_results): \n",
    "            out_f.write(','.join(str(j) for j in row) + '\\n')\n",
    "            \n",
    "def get_elastix_transformix_file(result_dir_name, param_af, param_bs, data_dir, test_ims=None):\n",
    "    \"\"\"\n",
    "    Write commands for elastix and transformix test set registration.\n",
    "    \n",
    "    Args:\n",
    "        result_dir_name (str): subfolder name for storing registration results inside ./registration-results.\n",
    "        param_af (str): affine registration parameters file name, must be saved in ./parameter-files folder.\n",
    "        param_bs (str): B-splines registration parameters file name, must be saved in ./parameter-files folder.\n",
    "        data_dir (str): the data that will be registered.\n",
    "    \"\"\"\n",
    "    if test_ims is None:\n",
    "        test_ims = [f for f in listdir(data_dir) if isdir(join(data_dir, f))]\n",
    "    result_folder = f\"../registration-results/{result_dir_name}/\"\n",
    "\n",
    "    mkdir(result_folder)\n",
    "\n",
    "    with open(f\"elastix_transformix_{result_dir_name}\", 'w+') as out_f:\n",
    "\n",
    "        for chosen_im in test_ims:\n",
    "            fixed_im_path = os.path.join(data_dir, f'./{chosen_im}/{chosen_im}_iBHCT.nii.gz') \n",
    "            moving_im_path = os.path.join(data_dir, f'./{chosen_im}/{chosen_im}_eBHCT.nii.gz')\n",
    "            result_path = f\"../registration-results/{result_dir_name}/{chosen_im}/\"\n",
    "            param_af_path = f\"../parameter_files/{param_af}\"\n",
    "            param_bs_path = f\"../parameter_files/{param_bs}\"    \n",
    "            mkdir(result_path)\n",
    "            cmd = f\"elastix -f {fixed_im_path} -m {moving_im_path} -out {result_path} -p {param_af_path} -p {param_bs_path}\\n\"\n",
    "            out_f.write(cmd)\n",
    "\n",
    "            def_path = f\"../data/{chosen_im}/{chosen_im}_300_iBH_xyz_r1_elastix.txt\"\n",
    "            result_path = f\"../registration-results/{result_dir_name}/{chosen_im}/\"\n",
    "            parameters_path = f\"../registration-results/{result_dir_name}/{chosen_im}/TransformParameters.1.txt\"\n",
    "            cmd = f\"transformix -def {def_path} -out {result_path} -tp {parameters_path}\\n\"\n",
    "            out_f.write(cmd)\n",
    "\n",
    "\n",
    "def replace(file_path, pattern, subst):\n",
    "    \"\"\"\n",
    "    Replace strings in a file.\n",
    "    \n",
    "    Parametrs:\n",
    "        pattern (str, iterable): pattern to replace.\n",
    "        subst (str, iterable): subtitution.\n",
    "    \n",
    "    \"\"\"\n",
    "    from os import fdopen, remove\n",
    "    from shutil import move\n",
    "    from tempfile import mkstemp\n",
    "\n",
    "    #Create temp file\n",
    "    fh, abs_path = mkstemp()\n",
    "    with fdopen(fh,'w') as new_file:\n",
    "        with open(file_path) as old_file:\n",
    "            for line in old_file:\n",
    "                new_file.write(line.replace(pattern, subst))\n",
    "    #Remove original file\n",
    "    remove(file_path)\n",
    "    #Move new file\n",
    "    move(abs_path, file_path)"
   ]
  },
  {
   "cell_type": "markdown",
   "metadata": {},
   "source": [
    "## Section for testing TRE function"
   ]
  },
  {
   "cell_type": "code",
   "execution_count": 10,
   "metadata": {},
   "outputs": [
    {
     "name": "stdout",
     "output_type": "stream",
     "text": [
      "Mean: 26.14727660137311, SD: 11.337752042730125\n",
      "Mean: 13.931984562447973, SD: 5.56541635086888\n"
     ]
    }
   ],
   "source": [
    "# Set chosen image and folder name where registration results are located\n",
    "chosen_im = 'copd1'\n",
    "chosen_param = 'par0000'\n",
    "\n",
    "# Set path to data folder containing copd1, copd2, etc. folders\n",
    "data_dir = \"../data\"\n",
    "\n",
    "#Set paths to landmarks and images\n",
    "path_landmarkse = os.path.join(data_dir, f\"{chosen_im}/{chosen_im}_300_eBH_xyz_r1.txt\")\n",
    "path_landmarksi = os.path.join(data_dir, f\"{chosen_im}/{chosen_im}_300_iBH_xyz_r1.txt\")\n",
    "path_imge = os.path.join(data_dir, f'./{chosen_im}/{chosen_im}_eBHCT.nii.gz')\n",
    "path_imgi = os.path.join(data_dir, f'./{chosen_im}/{chosen_im}_iBHCT.nii.gz')\n",
    "\n",
    "# Set paths to output of transformix\n",
    "path_transformix = f\"../registration-results/{chosen_param}/{chosen_im}/outputpoints.txt\"\n",
    "\n",
    "# Load landmark points and image\n",
    "landmarkse = np.loadtxt(path_landmarkse)\n",
    "landmarksi = np.loadtxt(path_landmarksi)\n",
    "\n",
    "# Read chosen image\n",
    "nii_data, nii_img = read_im(path_imge)\n",
    "\n",
    "# Compute TRE between moving and fixed points in specified chosen_im\n",
    "dist, mean_TRE, SD_TRE = TRE(landmarkse, landmarksi, nii_img.header.get_zooms())\n",
    "print(f\"Mean: {mean_TRE}, SD: {SD_TRE}\")\n",
    "\n",
    "# Compute TRE between moving and fixed points in image registered with chosen_param\n",
    "transformix_landmarks = transformix2np(path_transformix, no_points=300)\n",
    "dist, mean_TRE, SD_TRE = TRE(landmarksi, transformix_landmarks, nii_img.header.get_zooms())\n",
    "print(f\"Mean: {mean_TRE}, SD: {SD_TRE}\")"
   ]
  },
  {
   "cell_type": "markdown",
   "metadata": {},
   "source": [
    "## Section to Write Elastix Commands to file"
   ]
  },
  {
   "cell_type": "code",
   "execution_count": 7,
   "metadata": {},
   "outputs": [],
   "source": [
    "# Write commands for elastix test set registration\n",
    "# Add parameter folder name and paramter file names (must be saved in ./parameter-files folder)\n",
    "param_file = 'final_trans_test' # folder name where results will be saved\n",
    "param_1 = 'FINAL-affine.txt'\n",
    "param_2 = 'FINAL-bsplines.txt'\n",
    "data_dir = \"../data\"\n",
    "test_ims = [f for f in listdir(data_dir) if isdir(join(data_dir, f))]\n",
    "result_folder = f\"../registration-results/{param_file}/\""
   ]
  },
  {
   "cell_type": "code",
   "execution_count": 19,
   "metadata": {},
   "outputs": [],
   "source": [
    "get_elastix_transformix_file(param_file, param_1, param_2, data_dir)"
   ]
  },
  {
   "cell_type": "markdown",
   "metadata": {},
   "source": [
    "# Section to modify parameter files line by line"
   ]
  },
  {
   "cell_type": "markdown",
   "metadata": {},
   "source": [
    "#### Which parmeters to change:\n",
    "* (NumberOfResolutions 3) -> 5 & (ImagePyramidSchedule  4 4 4 2 2 2 1 1 1) -> 16 16 16 8 8 8 4 4 4 2 2 2 1 1 1 & (GridSpacingSchedule 4.0 2.0 1.0) -> 16.0 8.0 4.0 2.0 1.0\n",
    "* (NumberOfHistogramBins 32) -> 64, 128, 256\n",
    "* (MaximumNumberOfIterations 500) -> 1000\n",
    "* (NumberOfSpatialSamples 5000) -> 7500\n",
    "* (FinalGridSpacingInPhysicalUnits 10.0 10.0 10.0) -> (FinalGridSpacingInPhysicalUnits 5.0 5.0 5.0)\n",
    "* (FinalGridSpacingInPhysicalUnits 10.0 10.0 10.0) -> (FinalGridSpacingInPhysicalUnits 20.0 20.0 20.0)"
   ]
  },
  {
   "cell_type": "code",
   "execution_count": 14,
   "metadata": {},
   "outputs": [],
   "source": [
    "# Write commands for elastix test set registration\n",
    "# Add parameter folder name and paramter file names (must be saved in ./parameter-files folder)\n",
    "result_dir_name = 'Par0035-MI-ASGDPrime-both-hist256-grid6' # folder name where results will be saved\n",
    "param_af = 'Par0035.SPREAD.MI.af.0.txt'\n",
    "param_bs = 'Par0035.SPREAD.MI.bs.1.ASGDPrime.txt'\n",
    "data_dir = \"../data\""
   ]
  },
  {
   "cell_type": "code",
   "execution_count": 15,
   "metadata": {},
   "outputs": [],
   "source": [
    "from shutil import copyfile\n",
    "\n",
    "# Affine parameters\n",
    "test_param_af = param_af\n",
    "af_param_file_path = f\"../parameter_files/{test_param_af[:-4]}-working.txt\"\n",
    "af_working_param_file = f\"{test_param_af[:-4]}-working.txt\"\n",
    "copyfile(f\"../parameter_files/{test_param_af}\", af_param_file_path)\n",
    "# Write here the text you want change in affine file, first string is original text, \n",
    "# second is what you want to change it to. Copy and past line to make multiple changes\n",
    "replace(af_param_file_path, \"(NumberOfHistogramBins 32)\", \"(NumberOfHistogramBins 256)\")\n",
    "\n",
    "# Bspline parameters\n",
    "test_param_bs = param_bs\n",
    "bs_param_file_path = f\"../parameter_files/{test_param_bs[:-4]}-working.txt\"\n",
    "bs_working_param_file = f\"{test_param_bs[:-4]}-working.txt\"\n",
    "copyfile(f\"../parameter_files/{test_param_bs}\", bs_param_file_path)\n",
    "# Write here the text you want change in bsplines file, first string is original text, \n",
    "# second is what you want to change it to. Copy and past line to make multiple changes\n",
    "replace(bs_param_file_path, \"(NumberOfHistogramBins 32)\", \"(NumberOfHistogramBins 256)\")\n",
    "replace(bs_param_file_path, \"(FinalGridSpacingInPhysicalUnits 10.0 10.0 10.0)\", \"(FinalGridSpacingInPhysicalUnits 6.0 6.0 6.0)\")\n",
    "\n",
    "get_elastix_transformix_file(result_dir_name, af_working_param_file, bs_working_param_file, data_dir)"
   ]
  },
  {
   "cell_type": "markdown",
   "metadata": {},
   "source": [
    "## Section to Compute TRE for parameter file"
   ]
  },
  {
   "cell_type": "code",
   "execution_count": 24,
   "metadata": {},
   "outputs": [],
   "source": [
    "# Compute TRE for four copd images for a chosen_parameter file\n",
    "# Result (.csv) is saved in folder \"./registration-results/TRE-results\"\n",
    "chosen_param = 'final_trans_test'\n",
    "compute_all_TRE(chosen_param)"
   ]
  },
  {
   "cell_type": "markdown",
   "metadata": {},
   "source": [
    "## Preparation for Challenge Day"
   ]
  },
  {
   "cell_type": "code",
   "execution_count": 3,
   "metadata": {},
   "outputs": [],
   "source": [
    "# Provide names of two copd files to write elastix and transformix commands to file\n",
    "im1 = 'copd1'\n",
    "im2 = 'copd2'\n",
    "\n",
    "test_ims = [im1, im2]\n",
    "param_1 = 'FINAL-affine.txt'\n",
    "param_2 = 'FINAL-bsplines.txt'\n",
    "data_dir = \"../data\"\n",
    "test_ims = [im1, im2]\n",
    "result_folder = 'challenge-day-results'\n",
    "get_elastix_transformix_file(result_folder, param_1, param_2, data_dir, test_ims)"
   ]
  },
  {
   "cell_type": "code",
   "execution_count": 4,
   "metadata": {},
   "outputs": [],
   "source": [
    "# After registration, convert outputpoints.txt to same format as original\n",
    "for idx, chosen_im in enumerate(test_ims):\n",
    "    # Load transformix output points file\n",
    "    path_transform_param = f\"../registration-results/{result_folder}/{chosen_im}/outputpoints.txt\"\n",
    "    transformix_landmarks = transformix2np(path_transform_param, no_points=300)\n",
    "    transformix_landmarks = transformix_landmarks.astype(int)\n",
    "    path_landmarks_result = os.path.join(data_dir, f\"{chosen_im}/{chosen_im}_300_iBH_xyz_r1_transformed.txt\")\n",
    "    with open(path_landmarks_result, 'w+') as out_f:\n",
    "        for index, row in enumerate(transformix_landmarks): \n",
    "            out_f.write(' '.join(str(j) for j in row) + '\\n')"
   ]
  },
  {
   "cell_type": "code",
   "execution_count": null,
   "metadata": {},
   "outputs": [],
   "source": []
  }
 ],
 "metadata": {
  "kernelspec": {
   "display_name": "Python 3",
   "language": "python",
   "name": "python3"
  },
  "language_info": {
   "codemirror_mode": {
    "name": "ipython",
    "version": 3
   },
   "file_extension": ".py",
   "mimetype": "text/x-python",
   "name": "python",
   "nbconvert_exporter": "python",
   "pygments_lexer": "ipython3",
   "version": "3.6.5"
  }
 },
 "nbformat": 4,
 "nbformat_minor": 1
}
