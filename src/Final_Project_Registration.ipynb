{
 "cells": [
  {
   "cell_type": "code",
   "execution_count": 1,
   "metadata": {},
   "outputs": [],
   "source": [
    "import numpy as np\n",
    "import itk\n",
    "import os"
   ]
  },
  {
   "cell_type": "code",
   "execution_count": 2,
   "metadata": {},
   "outputs": [],
   "source": [
    "# Set chosen image\n",
    "chosen_im = 'copd2'\n",
    "chosen_param = 'par0000'\n",
    "\n",
    "# Set path to data folder containing copd1, copd2, etc. folders\n",
    "data_dir = \"../data\"\n",
    "\n",
    "#Set paths to landmarks and images\n",
    "path_landmarkse = os.path.join(data_dir, f\"{chosen_im}/{chosen_im}_300_eBH_xyz_r1.txt\")\n",
    "path_landmarksi = os.path.join(data_dir, f\"{chosen_im}/{chosen_im}_300_iBH_xyz_r1.txt\")\n",
    "path_imge = os.path.join(data_dir, f'./{chosen_im}/{chosen_im}_eBHCT.mha')\n",
    "path_imgi = os.path.join(data_dir, f'./{chosen_im}/{chosen_im}_iBHCT.mha')\n",
    "\n",
    "# Set paths to output of transformix\n",
    "path_transformix = f\"../registration-results/{chosen_param}/{chosen_im}/outputpoints.txt\""
   ]
  },
  {
   "cell_type": "code",
   "execution_count": 3,
   "metadata": {},
   "outputs": [],
   "source": [
    "landmarkse = np.loadtxt(path_landmarkse)\n",
    "landmarksi = np.loadtxt(path_landmarksi)\n",
    "\n",
    "pixel_type = itk.ctype('unsigned short')\n",
    "imge = itk.imread(path_imge, pixel_type)\n"
   ]
  },
  {
   "cell_type": "code",
   "execution_count": 4,
   "metadata": {},
   "outputs": [],
   "source": [
    "# Function to calculate TRE\n",
    "def TRE(landmarks1, landmarks2, spacing):\n",
    "    \"\"\"\n",
    "    mean (and standard deviation) 3D Euclidean magnitude distance \n",
    "    between calculated and reference landmark positions for the \n",
    "    set of validation landmarks. All values are reported in units of millimeters.\n",
    "    \n",
    "    Parameters:    \n",
    "        landmarks1 (ndarry): first set of landmarks.\n",
    "        landmarks2 (ndarry): second set of landmarks.\n",
    "        spaing (tuple(float)): pixel spacing for x, y, z.\n",
    "    \n",
    "    Returns:\n",
    "        (floar, float) mean and SD 3D Euclidean magnitude distance.\n",
    "    \"\"\"\n",
    "    landmarks1 = spacing*landmarks1\n",
    "    landmarks2 = spacing*landmarks2\n",
    "    diff = landmarks1 - landmarks2\n",
    "    squared = diff * diff\n",
    "    dist = np.sqrt(np.sum(squared,axis=1))\n",
    "    mean_TRE = np.mean(dist)\n",
    "    sd_TRE = np.std(dist)\n",
    "\n",
    "    return dist, mean_TRE, sd_TRE\n",
    "\n",
    "#Import transformix text file and convert to np array\n",
    "def transformix2np(path_transformix, no_points=300):\n",
    "    import re\n",
    "    landmarks = open(path_transformix, \"r\")\n",
    "    reg_expr = r'OutputPoint = \\[([\\d.\\s\\-]+)\\]'\n",
    "    landmarks_array = np.zeros((no_points, 3))\n",
    "\n",
    "    for index, line in enumerate(landmarks):\n",
    "        match_obj = re.search(reg_expr, line, re.M)\n",
    "        coords = match_obj.group(1).split()\n",
    "        coords = [round(float(c)) for c in coords]\n",
    "        landmarks_array[index,:] = coords\n",
    "    return landmarks_array"
   ]
  },
  {
   "cell_type": "code",
   "execution_count": 7,
   "metadata": {},
   "outputs": [
    {
     "name": "stdout",
     "output_type": "stream",
     "text": [
      "21.64084010925038 6.415267676867441\n"
     ]
    }
   ],
   "source": [
    "dist, mean_TRE, SD_TRE = TRE(landmarkse, landmarksi, tuple(imge.GetSpacing()))\n",
    "print(mean_TRE, SD_TRE)"
   ]
  },
  {
   "cell_type": "code",
   "execution_count": 8,
   "metadata": {},
   "outputs": [
    {
     "name": "stdout",
     "output_type": "stream",
     "text": [
      "46.735037402429555 6.267673065833723\n"
     ]
    }
   ],
   "source": [
    "transformix_landmarks = transformix2np(path_transformix, no_points=300)\n",
    "dist, mean_TRE, SD_TRE = TRE(landmarksi, transformix_landmarks, tuple(imge.GetSpacing()))\n",
    "print(mean_TRE, SD_TRE)"
   ]
  },
  {
   "cell_type": "code",
   "execution_count": null,
   "metadata": {},
   "outputs": [],
   "source": []
  }
 ],
 "metadata": {
  "kernelspec": {
   "display_name": "Python 3",
   "language": "python",
   "name": "python3"
  },
  "language_info": {
   "codemirror_mode": {
    "name": "ipython",
    "version": 3
   },
   "file_extension": ".py",
   "mimetype": "text/x-python",
   "name": "python",
   "nbconvert_exporter": "python",
   "pygments_lexer": "ipython3",
   "version": "3.6.5"
  }
 },
 "nbformat": 4,
 "nbformat_minor": 1
}
