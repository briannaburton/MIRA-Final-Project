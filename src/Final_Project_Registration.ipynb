{
 "cells": [
  {
   "cell_type": "code",
   "execution_count": 39,
   "metadata": {
    "collapsed": true
   },
   "outputs": [],
   "source": [
    "import numpy as np\n",
    "from medpy.io import load\n",
    "import os"
   ]
  },
  {
   "cell_type": "code",
   "execution_count": 98,
   "metadata": {},
   "outputs": [],
   "source": [
    "# Set path to test files and import\n",
    "chosen_im = 'copd2'\n",
    "\n",
    "# Set path to data folder containing copd1, copd2, etc. folders\n",
    "data_dir = \"../data\"\n",
    "\n",
    "#Set paths to landmarks and images\n",
    "path_landmarks1 = os.path.join(data_dir, f\"{chosen_im}/{chosen_im}_300_eBH_xyz_r1.txt\")\n",
    "path_landmarks2 = os.path.join(data_dir, f\"{chosen_im}/{chosen_im}_300_iBH_xyz_r1.txt\")\n",
    "path_img1 = os.path.join(data_dir, f'./{chosen_im}/{chosen_im}_eBHCT.mha')\n",
    "path_img2 = os.path.join(data_dir, f'./{chosen_im}/{chosen_im}_iBHCT.mha')"
   ]
  },
  {
   "cell_type": "code",
   "execution_count": 99,
   "metadata": {},
   "outputs": [],
   "source": [
    "landmarks1 = np.loadtxt(path_landmarks1)\n",
    "landmarks2 = np.loadtxt(path_landmarks2)\n",
    "_, image_header1 = load(path_img1)"
   ]
  },
  {
   "cell_type": "code",
   "execution_count": 100,
   "metadata": {},
   "outputs": [],
   "source": [
    "# Function to calculate TRE\n",
    "def TRE(landmarks1, landmarks2, image_header1):\n",
    "    \"\"\"\n",
    "    mean (and standard deviation) 3D Euclidean magnitude distance \n",
    "    between calculated and reference landmark positions for the \n",
    "    set of validation landmarks. All values are reported in units of millimeters\n",
    "    \n",
    "    :param landmarks1: (ndarry) first set of landmarks\n",
    "    :param landmarks2: (ndarry) second set of landmarks\n",
    "    :return: mean and SD 3D Euclidean magnitude distance\n",
    "    \"\"\"\n",
    "    spacing = tuple(list(image_header1.GetSpacing()))\n",
    "    landmarks1 = spacing*landmarks1\n",
    "    landmarks2 = spacing*landmarks2\n",
    "    diff = landmarks1 - landmarks2\n",
    "    squared = diff * diff\n",
    "    dist = np.sqrt(np.sum(squared,axis=1))\n",
    "    mean_TRE = np.mean(dist)\n",
    "    sd_TRE = np.std(dist)\n",
    "\n",
    "    return dist, mean_TRE, sd_TRE"
   ]
  },
  {
   "cell_type": "code",
   "execution_count": 101,
   "metadata": {},
   "outputs": [
    {
     "name": "stdout",
     "output_type": "stream",
     "text": [
      "21.64084010925038 6.415267676867441\n"
     ]
    }
   ],
   "source": [
    "dist, mean_TRE, SD_TRE = TRE(landmarks1, landmarks2, image_header1)\n",
    "print(mean_TRE, SD_TRE)"
   ]
  },
  {
   "cell_type": "code",
   "execution_count": null,
   "metadata": {},
   "outputs": [],
   "source": []
  }
 ],
 "metadata": {
  "kernelspec": {
   "display_name": "Python 2",
   "language": "python",
   "name": "python2"
  },
  "language_info": {
   "codemirror_mode": {
    "name": "ipython",
    "version": 2
   },
   "file_extension": ".py",
   "mimetype": "text/x-python",
   "name": "python",
   "nbconvert_exporter": "python",
   "pygments_lexer": "ipython2",
   "version": "2.7.6"
  }
 },
 "nbformat": 4,
 "nbformat_minor": 0
}
